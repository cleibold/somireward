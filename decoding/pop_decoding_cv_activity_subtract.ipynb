{
 "cells": [
  {
   "cell_type": "markdown",
   "id": "29f2c0e8-f4b2-4a69-a7bb-b8bbf5a2fe1f",
   "metadata": {
    "jp-MarkdownHeadingCollapsed": true
   },
   "source": [
    "# Decoding analysis using the spiking activity of multiple cells\n",
    "\n",
    "Maximum likelihood decoding from the spiking activity of multiple cells together. For this analysis we use the already binned spiking as in the GLM analysis. The stored data already as the modified activity where the modulation due to speed and acceleration was subtracted based on GLM regression.\n",
    "\n",
    "In the end, we obtain the decoding accuracy as function of the increasing number of cells that are included for decoding. The cells are sorted according to the single-cell decoding performance and mean firing rate as obtained in the full single-cell decoding analysis."
   ]
  },
  {
   "cell_type": "markdown",
   "id": "1818ee2c-c5fd-49c6-b6c9-e7375dec2f82",
   "metadata": {},
   "source": [
    "# Imports and module reloading"
   ]
  },
  {
   "cell_type": "code",
   "execution_count": 1,
   "id": "3fb4d096-ba1d-4fc6-9dd5-4b6c1ebff6ba",
   "metadata": {},
   "outputs": [],
   "source": [
    "#%matplotlib inline\n",
    "\n",
    "import os\n",
    "import sys\n",
    "import glob\n",
    "import re\n",
    "from pathlib import Path\n",
    "import json\n",
    "import importlib\n",
    "\n",
    "import numpy as np\n",
    "import matplotlib.pyplot as plt\n",
    "import matplotlib as mpl\n",
    "\n",
    "# My module for the decoding analysis\n",
    "#import decoding\n",
    "from decoding import *"
   ]
  },
  {
   "cell_type": "markdown",
   "id": "82597789-eb6b-41d3-b19f-80e95bfab696",
   "metadata": {},
   "source": [
    "# Load data from the regression analysis"
   ]
  },
  {
   "cell_type": "code",
   "execution_count": 2,
   "id": "c77303b5-c133-4b7e-9379-b8d1bdc318c1",
   "metadata": {},
   "outputs": [
    {
     "name": "stdout",
     "output_type": "stream",
     "text": [
      "/Users/sven/Work/Projects/DecodingAnalysisMei/data\n"
     ]
    }
   ],
   "source": [
    "base_p = Path(os.getcwd())\n",
    "start_p = base_p / 'data'\n",
    "print(start_p)"
   ]
  },
  {
   "cell_type": "code",
   "execution_count": 3,
   "id": "f724e0d3-ed55-4b5d-9e4d-b0374ad2cafb",
   "metadata": {},
   "outputs": [
    {
     "name": "stdout",
     "output_type": "stream",
     "text": [
      "Number of cells: 50\n"
     ]
    },
    {
     "data": {
      "text/plain": [
       "['Expert__#386_2020-07-21__shank1_5.0_fam_SOMI',\n",
       " 'Expert__#386_2020-07-21__shank2_43.0_fam_SOMI',\n",
       " 'Expert__#386_2020-07-21__shank2_24.0_fam_SOMI',\n",
       " 'Expert__#386_2020-07-21__shank2_34.0_fam_SOMI',\n",
       " 'Expert__#386_2020-07-21__shank2_70.0_fam_SOMI',\n",
       " 'Expert__#386_2020-07-21__shank2_42.0_fam_SOMI',\n",
       " 'Expert__#386_2020-07-21__shank2_47.0_fam_SOMI',\n",
       " 'Expert__#386_2020-07-21__shank3_17.0_fam_SOMI',\n",
       " 'Expert__#386_2020-07-21__shank3_33.0_fam_SOMI',\n",
       " 'Expert__#386_2020-07-21__shank4_106.0_fam_SOMI',\n",
       " 'Expert__#386_2020-07-21__shank4_96.0_fam_SOMI',\n",
       " 'Expert__#386_2020-07-21__shank4_95.0_fam_SOMI',\n",
       " 'Expert__#384_2020-07-23__shank3_81.0_fam_SOMI',\n",
       " 'Expert__#384_2020-07-23__shank4_40.0_fam_SOMI',\n",
       " 'Expert__#384_2020-07-23__shank4_42.0_fam_SOMI',\n",
       " 'Expert__#387_2020-07-24__shank1_16.0_fam_SOMI',\n",
       " 'Expert__#387_2020-07-24__shank2_24.0_fam_SOMI',\n",
       " 'Expert__#387_2020-07-24__shank2_44.0_fam_SOMI',\n",
       " 'Expert__#387_2020-07-24__shank3_35.0_fam_SOMI',\n",
       " 'Expert__#328_2020-04-02__shank1_25.0_fam_SOMI',\n",
       " 'Expert__#328_2020-04-02__shank1_73.0_fam_SOMI',\n",
       " 'Expert__#328_2020-04-02__shank1_126.0_fam_SOMI',\n",
       " 'Expert__#328_2020-04-02__shank2_129.0_fam_SOMI',\n",
       " 'Expert__#328_2020-04-02__shank2_79.0_fam_SOMI',\n",
       " 'Expert__#328_2020-04-02__shank2_78.0_fam_SOMI',\n",
       " 'Expert__#328_2020-04-02__shank2_55.0_fam_SOMI',\n",
       " 'Expert__#328_2020-04-02__shank3_54.0_fam_SOMI',\n",
       " 'Expert__#328_2020-04-02__shank3_61.0_fam_SOMI',\n",
       " 'Expert__#328_2020-04-02__shank3_53.0_fam_SOMI',\n",
       " 'Expert__#423_2020-07-15__shank2_79.0_fam_SOMI',\n",
       " 'Expert__#423_2020-07-15__shank3_49.0_fam_SOMI',\n",
       " 'Expert__#423_2020-07-15__shank3_70.0_fam_SOMI',\n",
       " 'Expert__#64_2019-08-01__shank1_32.0_fam_SOMI',\n",
       " 'Expert__#64_2019-08-01__shank2_76.0_fam_SOMI',\n",
       " 'Expert__#335_2020-04-04__shank2_15.0_fam_SOMI',\n",
       " 'Expert__#335_2020-04-04__shank3_11.0_fam_SOMI',\n",
       " 'Expert__#335_2020-04-04__shank3_8.0_fam_SOMI',\n",
       " 'Expert__#335_2020-04-04__shank4_23.0_fam_SOMI',\n",
       " 'Expert__#228_lin_2019-12-16__shank1_80.0_fam_SOMI',\n",
       " 'Expert__#235_lin_2019-12-12__shank1_48.0_fam_SOMI',\n",
       " 'Expert__#235_lin_2019-12-12__shank1_33.0_fam_SOMI',\n",
       " 'Expert__#235_lin_2019-12-12__shank1_56.0_fam_SOMI',\n",
       " 'Expert__#235_lin_2019-12-12__shank2_40.0_fam_SOMI',\n",
       " 'Expert__#235_lin_2019-12-12__shank3_17.0_fam_SOMI',\n",
       " 'Expert__#334_2020-04-09__shank1_40.0_fam_SOMI',\n",
       " 'Expert__#334_2020-04-09__shank2_32.0_fam_SOMI',\n",
       " 'Expert__#233_lin_2019-12-18__shank2_47.0_fam_SOMI',\n",
       " 'Expert__#233_lin_2019-12-18__shank3_62.0_fam_SOMI',\n",
       " 'Expert__#233_lin_2019-12-18__shank3_66.0_fam_SOMI',\n",
       " 'Expert__#233_lin_2019-12-18__shank3_69.0_fam_SOMI']"
      ]
     },
     "execution_count": 3,
     "metadata": {},
     "output_type": "execute_result"
    }
   ],
   "source": [
    "# Select decoding start offset relative to reward delievery time:\n",
    "# decoding windows are considered before and after this start\n",
    "decoding_offset_time = 1.5 # in s\n",
    "# decoding_offset = round(decoding_offset_time * sample_rate_Hz)\n",
    "\n",
    "# Session status\n",
    "# Load data from expert or non-expert animals\n",
    "# Change this from expert_s to non_expert_s to load the corresponding data\n",
    "session_s = expert_s # non_expert_s\n",
    "session_status = session_s\n",
    "\n",
    "cells_data_fname = 'activity_subtracted_data__' + session_s + '.npy'\n",
    "fname = start_p / cells_data_fname\n",
    "\n",
    "cells_data_d = np.load(fname, allow_pickle=True).item()\n",
    "\n",
    "print('Number of cells:', len(cells_data_d))\n",
    "list(cells_data_d.keys())"
   ]
  },
  {
   "cell_type": "markdown",
   "id": "f603a2de-d5ef-4c15-ab33-9bad23629c50",
   "metadata": {},
   "source": [
    "## Load sorted keys of the cells for simultaneous decoding.\n",
    "We valuate a decoder that uses the spike counts of multiple units simultaneously (naive Bayesian classifier). We do this for a selected subset of units, which is determined according to some criteria. For example, we could start with one cells and then increase the number according to some criteria. For this, we sort the list of cells, using the dict keys."
   ]
  },
  {
   "cell_type": "code",
   "execution_count": 4,
   "id": "f7352603-b3e8-49ba-9bef-e736bd550daf",
   "metadata": {},
   "outputs": [],
   "source": [
    "def replace_underscore(key_s):\n",
    "    ind = key_s.find('shank')+6\n",
    "    return key_s[:ind] + '_' + key_s[ind+1:]"
   ]
  },
  {
   "cell_type": "code",
   "execution_count": 5,
   "id": "f0b3db79-ad0f-4c2d-8b70-1c9e9b43c936",
   "metadata": {},
   "outputs": [],
   "source": [
    "# # Select decoding start offset relative to reward delievery time:\n",
    "# # decoding windows are considered before and after this start\n",
    "# decoding_offset_time = 1.5 # in s\n",
    "# decoding_offset = round(decoding_offset_time * sample_rate_Hz)\n",
    "bw_ms = 200\n",
    "\n",
    "# Split variant for two-fold cross-validation:\n",
    "split_variant = 0 # Split into even and odd trials\n",
    "split_variant_name = split_variant_names[split_variant]\n",
    "#print('Using split variant:', split_variant_name)\n",
    "decoding_s = f'_bw{bw_ms}' + f'_split_{split_variant_name}'\n",
    "#print(decoding_s)\n",
    "\n",
    "# Load the list of sorted keys\n",
    "pv_level = 0.01\n",
    "\n",
    "# Use sorting from the original analysis:\n",
    "keys_sorted_name_s = session_status + '__keys_sorted' + f'_offset{decoding_offset_time:.1f}' + decoding_s + f'_pv{100*pv_level:02.0f}'\n",
    "fname = start_p / (keys_sorted_name_s  + '.txt')\n",
    "\n",
    "#Now read the file back into a Python list object\n",
    "with open(fname, 'r') as f:\n",
    "    keys_sorted_orig = json.loads(f.read())\n",
    "\n",
    "#Saved with json.dumps\n",
    "# with open(fname, 'w') as f:\n",
    "#     f.write(json.dumps(keys_sorted[::-1]))"
   ]
  },
  {
   "cell_type": "code",
   "execution_count": 6,
   "id": "90eda981-551e-486a-9e64-10e8995af14f",
   "metadata": {},
   "outputs": [
    {
     "data": {
      "text/plain": [
       "44"
      ]
     },
     "execution_count": 6,
     "metadata": {},
     "output_type": "execute_result"
    }
   ],
   "source": [
    "keys_sorted = [replace_underscore(key) for key in keys_sorted_orig]\n",
    "\n",
    "# \"Cell with high firing rate and thus decoding accuracy\"\n",
    "super_cell_id = 'Expert__#233_lin_2019-12-18__shank2_47.0_fam_SOMI'\n",
    "# TODO: change '-' after shank? i cell_id string\n",
    "# in keys from original full analysis\n",
    "\n",
    "len(keys_sorted)"
   ]
  },
  {
   "cell_type": "markdown",
   "id": "81eac2af-3e8d-45b3-8e96-78b3223276d8",
   "metadata": {},
   "source": [
    "# Training of the decoder and compute log-probabilities\n",
    "\n",
    "For training, we compute for each unit separately the expected counts from the aligned rate counts for before and after the decoding start time."
   ]
  },
  {
   "cell_type": "code",
   "execution_count": 7,
   "id": "e504752e-6d6c-4b96-8902-e98c84c281a6",
   "metadata": {},
   "outputs": [],
   "source": [
    "def train_all(bin_window, bin_width, num_bins, cells_data_d, repeat=0, split=0):\n",
    "    # Range of indices for the binned data for the given bin_window\n",
    "    idx_range_before, idx_range_after = get_window_idx(bin_window, bin_width, num_bins)\n",
    "    idx_window = list(idx_range_before) + list(idx_range_after)\n",
    "    # rate_counts_train = rate_counts_aligned[:, list(idx_range_before) + list(idx_range_after)]\n",
    "    \n",
    "    for cell_id_s, data_d in cells_data_d.items():\n",
    "        #print(cell_id_s)\n",
    "\n",
    "        num_trials = data_d['num_reward_start']\n",
    "        if split == None:\n",
    "            train_inds = np.arange(num_trials) #range(num_trials)\n",
    "            test_inds = np.arange(num_trials) #range(num_trials)\n",
    "        else:\n",
    "            inds_split = split_even_odd(num_trials)\n",
    "            # select train and test trials:\n",
    "            train_inds = inds_split[split] \n",
    "            test_inds = inds_split[(split+1) % 2]\n",
    "\n",
    "        # Restrict the data arrays for the decoding analysis to the shorter bin_window:\n",
    "        spike_counts_aligned = data_d['spike_counts_list'][repeat][:, idx_window]\n",
    "        rate_counts_train = spike_counts_aligned[train_inds, :]\n",
    "        labels_train = data_d['true_labels'][train_inds]\n",
    "        \n",
    "        # Corresponding restricted data arrays to be used for testing\n",
    "        spike_counts_test = spike_counts_aligned[test_inds, :]\n",
    "        labels_temp = np.reshape(data_d['true_labels'][test_inds], (-1,), order='C')\n",
    "                \n",
    "        train_inds = np.arange(rate_counts_train.shape[0]) #range(num_trials) # inds_split[0]\n",
    "        # Training\n",
    "        expect_before, expect_after = train_decoder(rate_counts_train, labels_train, train_inds)\n",
    "        \n",
    "        # At this point, we can already compute the log-probs\n",
    "        # for each spike count pattern\n",
    "        #test_inds = np.arange(spike_counts_test.shape[0]) #range(num_trials) # inds_split[1]\n",
    "        spike_counts_temp = np.reshape(spike_counts_test,\n",
    "                                       (-1, spike_counts_test.shape[1]//2), order='C')\n",
    "        decoded_labels, log_probs = get_decoded_labels(spike_counts_temp,\n",
    "                                                       expect_before.mean(), expect_after)\n",
    "        \n",
    "        # log-probabilities of before and after\n",
    "        # see: log_probs = np.array([log_prob_before, log_prob_after]) \n",
    "        \n",
    "        # store log-probs and corresponding true labels for testing: labels_temp\n",
    "        data_d['repeat'] = repeat\n",
    "        data_d['split'] = split\n",
    "        data_d['window'] = bin_window # the selected window length\n",
    "        data_d['labels_decode'] = labels_temp\n",
    "        data_d['log_probs'] = log_probs\n",
    "        \n",
    "        # compute accuracy\n",
    "        frac_correct, num_correct = get_accuracy(decoded_labels, labels_temp)\n",
    "        #print('Accuracy:', frac_correct)\n",
    "        data_d['frac_correct'] = frac_correct\n",
    "    return\n",
    "\n",
    "\n",
    "def test_decoding_all(keys_sorted, cells_data_d, num_test_decoding = 10_000):\n",
    "# Put computed log-probs and labels for testing of decoding in lists:\n",
    "    labels_decode_l = []\n",
    "    log_probs_l = []\n",
    "    num_test_trials_l = []\n",
    "    for key in keys_sorted:\n",
    "        #print(key)\n",
    "        labels_decode_l.append(cells_data_d[key]['labels_decode'])\n",
    "        log_probs_l.append(cells_data_d[key]['log_probs'])\n",
    "        num_test_trials_l.append(cells_data_d[key]['labels_decode'].shape[0]//2)\n",
    "    \n",
    "    # Actual testing:\n",
    "    labels_trial = np.array([0,1])\n",
    "    num_correct = np.zeros((len(keys_sorted),2), dtype=int)\n",
    "    for r in range(num_test_decoding):\n",
    "        log_probs_cells = np.zeros((len(keys_sorted),2,2))\n",
    "    \n",
    "        for i, key in enumerate(keys_sorted):\n",
    "            num_test_trials = labels_decode_l[i].shape[0]//2\n",
    "            trial_ind = rng.choice(num_test_trials)\n",
    "            #labels_trial = labels_decode_l[i][2*trial_ind:2*(trial_ind+1)] # equals array([0,1])\n",
    "            log_probs_temp = log_probs_l[i][2*trial_ind:2*(trial_ind+1),:]\n",
    "            log_probs_cells[i] = log_probs_temp\n",
    "            \n",
    "        log_probs_csum = np.cumsum(log_probs_cells, axis=0)\n",
    "        decoded_labels = np.argmax(log_probs_csum, axis=2)\n",
    "        num_correct += (decoded_labels == labels_trial)\n",
    "\n",
    "    frac_correct = num_correct/num_test_decoding\n",
    "    return frac_correct"
   ]
  },
  {
   "cell_type": "markdown",
   "id": "d0995b62-f843-4254-b2d6-4c51fbd50f90",
   "metadata": {},
   "source": [
    "# Testing of the decoder\n",
    "\n",
    "For the selected subset of units we choose spike count patterns all from the same class (0 for \"before\" and 1 for \"after\") but otherwise at random from the trials in the session. The true class is stored in `data_d['labels_decode']` and accordingly the individual log-probabilities in `data_d['log_probs_decode']`, both have the length of the twice the number of trials.\n",
    "\n",
    "In the end, we simply add the corresponding log-probs for the different units, both for \"before\" and \"after\"."
   ]
  },
  {
   "cell_type": "markdown",
   "id": "765b3cf3-520e-4456-804c-9b8f5ab768de",
   "metadata": {},
   "source": [
    "## Repeat the testing of the decoder a number of times\n",
    "\n",
    "Obtain the number/fraction of correct decodings for increasing number of cells used for decoding.\n",
    "We want to investigate a several window lengths in the following."
   ]
  },
  {
   "cell_type": "code",
   "execution_count": 8,
   "id": "53fafe52-12bf-4738-8eea-e11cd4d12382",
   "metadata": {},
   "outputs": [
    {
     "name": "stdout",
     "output_type": "stream",
     "text": [
      "Expert__#384_2020-07-23__shank3_90.0_fam_SOMI is not in binned data and removed from analysis.\n"
     ]
    },
    {
     "data": {
      "text/plain": [
       "43"
      ]
     },
     "execution_count": 8,
     "metadata": {},
     "output_type": "execute_result"
    }
   ],
   "source": [
    "# Remove keys that are not in the binned data:\n",
    "for key in keys_sorted:\n",
    "    if not (key in cells_data_d.keys()):\n",
    "        print(key + ' is not in binned data and removed from analysis.')\n",
    "        keys_sorted.remove(key)\n",
    "\n",
    "len(keys_sorted)"
   ]
  },
  {
   "cell_type": "code",
   "execution_count": 9,
   "id": "018d8faa-7b2f-426a-8b0d-1314baacb17c",
   "metadata": {},
   "outputs": [],
   "source": [
    "# Random number generator for testing\n",
    "rng = np.random.default_rng()\n",
    "rng_state = rng.bit_generator.state"
   ]
  },
  {
   "cell_type": "code",
   "execution_count": 10,
   "id": "18db1c3d-f153-408d-868c-2a32a995b8db",
   "metadata": {},
   "outputs": [
    {
     "data": {
      "text/plain": [
       "42"
      ]
     },
     "execution_count": 10,
     "metadata": {},
     "output_type": "execute_result"
    }
   ],
   "source": [
    "# Remove high firing cell from above:\n",
    "remove_super = True # False\n",
    "\n",
    "if remove_super and super_cell_id in keys_sorted:\n",
    "    keys_sorted.remove(super_cell_id)\n",
    "\n",
    "len(keys_sorted)"
   ]
  },
  {
   "cell_type": "code",
   "execution_count": 11,
   "id": "20f972d5-36e2-4bb3-a4a3-57245f5406b8",
   "metadata": {},
   "outputs": [
    {
     "name": "stdout",
     "output_type": "stream",
     "text": [
      "Repeat: 0\n",
      "Split: 0\n",
      "Split: 1\n",
      "Repeat: 1\n",
      "Split: 0\n",
      "Split: 1\n"
     ]
    },
    {
     "data": {
      "text/plain": [
       "(2, 2, 5, 42)"
      ]
     },
     "execution_count": 11,
     "metadata": {},
     "output_type": "execute_result"
    }
   ],
   "source": [
    "# We do the following for a fixed window length, for now:\n",
    "data_d = next(iter(cells_data_d.values())) # get first value in dictionary\n",
    "#print(data_d['cell_id_s'])\n",
    "bin_width = data_d['bin_width'] # should be the same for all units\n",
    "num_bins = data_d['num_bins']\n",
    "\n",
    "# Window lengths for analysis:\n",
    "win_start = 0.5 # in seconds\n",
    "win_stop = 1.5 # should be less than (or equal to) window_max\n",
    "win_step = bin_width #max(0.125, bin_width) #0.125 in seconds, 2**-3\n",
    "windows = create_windows(win_start, win_stop, win_step)\n",
    "\n",
    "num_repeat = data_d['num_repeat']\n",
    "fcs_arr_rep_l = []\n",
    "\n",
    "split_l = [0, 1] #[None]\n",
    "\n",
    "#rng_state_l = []\n",
    "\n",
    "for rep in range(num_repeat+1):\n",
    "    print('Repeat:', rep)\n",
    "    fcs_arr_split_l = []\n",
    "    for split in split_l:\n",
    "        print('Split:', split)\n",
    "        fcs_l = []\n",
    "        rng_state = rng.bit_generator.state\n",
    "        #rng_state_l.append(rng_state)\n",
    "        for window in windows:\n",
    "            train_all(window, bin_width, num_bins, cells_data_d, repeat=rep, split=split)\n",
    "            rng.bit_generator.state = rng_state # reset the state of rng used for the decoding\n",
    "            frac_correct = test_decoding_all(keys_sorted, cells_data_d, num_test_decoding = 10_000)\n",
    "            # uses the data from training with the chosen window before\n",
    "            fcs_l.append(frac_correct)\n",
    "        \n",
    "        fcs_arr = np.array(fcs_l).mean(axis=2)\n",
    "        fcs_arr_split_l.append(fcs_arr)\n",
    "        # if split == 1:\n",
    "        #     fcs_arr += np.array(fcs_l).mean(axis=2)\n",
    "        #     fcs_arr *= 0.5\n",
    "        #     split = 2\n",
    "        # else:\n",
    "        #     fcs_arr = np.array(fcs_l).mean(axis=2)\n",
    "\n",
    "    #print(fcs_arr.shape)\n",
    "    fcs_arr_rep_l.append(np.array(fcs_arr_split_l))\n",
    "\n",
    "# Put all fraction correct data in array: \n",
    "fcs_arr_rep = np.array(fcs_arr_rep_l)\n",
    "fcs_arr_rep.shape"
   ]
  },
  {
   "cell_type": "code",
   "execution_count": 12,
   "id": "f308f34c-1bd4-433a-bba7-470bc8bd24cf",
   "metadata": {},
   "outputs": [],
   "source": [
    "# Save results of population decoding analysis:\n",
    "if remove_super:\n",
    "    with_super_s = ''\n",
    "else:\n",
    "    with_super_s = '_with_super'\n",
    "\n",
    "data_name_s = (session_s + '__pop_dec_plot_data' + f'_offset{decoding_offset_time:.1f}'\n",
    "               + f'_pv{100*pv_level:02.0f}' + '_cv' + str(len(split_l)).lower() + with_super_s)\n",
    "\n",
    "fname = start_p / data_name_s\n",
    "np.savez(fname, windows=windows, fcs_arr_rep=fcs_arr_rep)"
   ]
  },
  {
   "cell_type": "markdown",
   "id": "64d438c4-c886-42d3-bf13-994d52361bee",
   "metadata": {},
   "source": [
    "# Load and plot saved data"
   ]
  },
  {
   "cell_type": "code",
   "execution_count": 13,
   "id": "83607625-7543-401b-b2d3-2ed00a3fcabc",
   "metadata": {},
   "outputs": [],
   "source": [
    "# Load saved data\n",
    "# session_s = expert_s\n",
    "# split = 0\n",
    "cv_s = '2'\n",
    "\n",
    "if remove_super:\n",
    "    with_super_s = ''\n",
    "else:\n",
    "    with_super_s = '_with_super'\n",
    "#with_super_s = ''\n",
    "#with_super_s = '_with_super'\n",
    "\n",
    "data_name_s = (session_s + '__pop_dec_plot_data' + f'_offset{decoding_offset_time:.1f}'\n",
    "               + f'_pv{100*pv_level:02.0f}' + '_cv' + cv_s + with_super_s)\n",
    "\n",
    "fname = start_p / (data_name_s + '.npz')\n",
    "data = np.load(fname)\n",
    "windows = data['windows']\n",
    "fcs_arr_rep = data['fcs_arr_rep'] # Layout: reps x splits x windows x neurons incl\n",
    "# fcs_arr = data['fcs_arr']\n",
    "data.close()\n",
    "\n",
    "if len(with_super_s) > 0:\n",
    "    fcs_arr_rep_super = fcs_arr_rep.copy()\n",
    "\n",
    "# fcs_arr = fcs_arr_rep[0]"
   ]
  },
  {
   "cell_type": "code",
   "execution_count": 14,
   "id": "086981ac-d31a-401f-b680-020973d3974d",
   "metadata": {},
   "outputs": [],
   "source": [
    "#mpl.rcParams['pdf.fonttype'] = 42\n",
    "mpl.rcParams['svg.fonttype'] = 'none'\n",
    "# this makes sure the text objects are recognized as texts in the final vector plot, not vector shapes\n",
    "\n",
    "mpl.rcParams['font.family'] = 'sans-serif'\n",
    "mpl.rcParams['font.sans-serif'] = ['DejaVu Sans']\n",
    "\n",
    "SMALL_SIZE = 8\n",
    "MEDIUM_SIZE = 9\n",
    "BIGGER_SIZE = 11\n",
    "\n",
    "plt.rc('font', size=SMALL_SIZE)          # controls default text sizes\n",
    "plt.rc('axes', titlesize=MEDIUM_SIZE)     # fontsize of the axes title\n",
    "plt.rc('axes', labelsize=MEDIUM_SIZE)    # fontsize of the x and y labels\n",
    "plt.rc('xtick', labelsize=SMALL_SIZE)    # fontsize of the tick labels\n",
    "plt.rc('ytick', labelsize=SMALL_SIZE)    # fontsize of the tick labels\n",
    "plt.rc('legend', fontsize=SMALL_SIZE)    # legend fontsize\n",
    "plt.rc('figure', titlesize=BIGGER_SIZE)  # fontsize of the figure title\n",
    "\n",
    "#cmap = mpl.colormaps['plasma']\n",
    "#cmap = mpl.colormaps['cool']"
   ]
  },
  {
   "cell_type": "code",
   "execution_count": 21,
   "id": "d100e8be-b059-4b62-b45c-b9de348ba865",
   "metadata": {},
   "outputs": [],
   "source": [
    "# Choose between original spiking activity data and\n",
    "# activity where the modulation due to speed and acc.\n",
    "# has been subtracted using the GLM regression.\n",
    "\n",
    "# Switch this:\n",
    "repeat = 0 # 0: original data\n",
    "# 1: activity with subtracted speed and acc. modulation\n",
    "\n",
    "fcs_arr_split = fcs_arr_rep[repeat]\n",
    "\n",
    "# Average over the two folds in the cross-validation scheme:\n",
    "fcs_arr = fcs_arr_split.mean(axis=0)\n",
    "#print(fcs_arr.shape)\n",
    "num_cells = np.arange(1, fcs_arr.shape[1]+1)\n",
    "\n",
    "if len(with_super_s) > 0:\n",
    "    fcs_arr_super = fcs_arr_rep_super[repeat].mean(axis=0)\n",
    "    num_cells_super = np.arange(1, fcs_arr_super.shape[1]+1)\n",
    "    #fcs_arr_super.shape"
   ]
  },
  {
   "cell_type": "code",
   "execution_count": 22,
   "id": "cab81e11-bc05-4da4-aa2d-79867ca52ccd",
   "metadata": {},
   "outputs": [
    {
     "name": "stdout",
     "output_type": "stream",
     "text": [
      "Plot window lengths: [0.75 1.   1.25 1.5 ]\n"
     ]
    },
    {
     "data": {
      "image/png": "[encoded data removed]",
      "text/plain": [
       "<Figure size 375x300 with 1 Axes>"
      ]
     },
     "metadata": {},
     "output_type": "display_data"
    }
   ],
   "source": [
    "windows_plot = [0.75, 1.0, 1.25, 1.5]\n",
    "inds_plot = np.searchsorted(windows, windows_plot)\n",
    "print('Plot window lengths:', windows[inds_plot])\n",
    "\n",
    "#cmap = mpl.colormaps['Dark2'] #['tab20c']\n",
    "cmap = mpl.colormaps['cool']\n",
    "\n",
    "# norm = plt.Normalize(vmin=windows.min(), vmax=windows.max())\n",
    "norm = plt.Normalize(0.5, 1.75)\n",
    "\n",
    "sm = plt.cm.ScalarMappable(norm=norm, cmap=cmap)\n",
    "#sm.set_array([])\n",
    "\n",
    "fig_width = 2.5 \n",
    "fig_height = 2.0\n",
    "\n",
    "fig, ax = plt.subplots(1,1, figsize=(fig_width,fig_height), dpi=150, layout=\"constrained\")\n",
    "#ax.set_prop_cycle('color', colors)\n",
    "\n",
    "#ax.xaxis.set_inverted(True)\n",
    "li_l = []\n",
    "for i in inds_plot:\n",
    "#for i, fc in enumerate(fcs_arr):\n",
    "    fc = fcs_arr[i]\n",
    "    #fc = fcs_arr_rep[:,i]\n",
    "    li_l += ax.plot(num_cells, fc, color=cmap(norm(windows[i])), lw=1, alpha=1.0,\n",
    "             label=windows[i])\n",
    "    # if windows[i] == 1.5:\n",
    "    #     fc = fcs_arr_super[i]\n",
    "    #     li_l += ax.plot(num_cells_super, fc, color=cmap(norm(windows[i])), lw=1, ls='--', dashes=(2, 1.5), alpha=1.0,\n",
    "    #          label=windows[i])\n",
    "\n",
    "if session_status == non_expert_s:\n",
    "    pass\n",
    "    leg = ax.legend(handles=li_l, loc='upper right', frameon=False, handlelength=1.5, handleheight=0.6,\n",
    "              borderaxespad=0.0,\n",
    "              fontsize= SMALL_SIZE, reverse=True, title='window (s)', alignment='right')\n",
    "    # change the line width for the legend\n",
    "    for line in leg.get_lines():\n",
    "        line.set_linewidth(1.5)\n",
    "else:\n",
    "    pass\n",
    "\n",
    "\n",
    "ax.axes.spines[['top','right']].set_visible(False)\n",
    "ax.set_yticks(np.linspace(0.5,1.0,6))\n",
    "ax.set_xticks(np.arange(0,50,10))\n",
    "ax.set_ylim([0.40, 0.95])\n",
    "ax.set_xlim([-1, 45])\n",
    "ax.set_ylabel(session_status.lower() + ' accuracy')\n",
    "ax.set_xlabel('no. cells included')\n",
    "#ax.set_title(session_status)\n",
    "\n",
    "plt.show(fig)"
   ]
  },
  {
   "cell_type": "code",
   "execution_count": 23,
   "id": "397c166b-6a50-42f9-97e8-208cb5a6ecfe",
   "metadata": {},
   "outputs": [],
   "source": [
    "# Save figure:\n",
    "plots_p = start_p\n",
    "# with_super_s = '_with_super'\n",
    "\n",
    "plot_name_s = (session_s + '__pop_dec' + f'_offset{decoding_offset_time:.1f}'\n",
    "               + f'_pv{100*pv_level:02.0f}' + '_cv' + cv_s + f'_rep{repeat}' + with_super_s)\n",
    "\n",
    "fname = plots_p / (plot_name_s  + '.pdf')\n",
    "#print(fname)\n",
    "fig.savefig(fname, dpi=300, format='pdf', transparent=True) #, facecolor='w')\n",
    "#pad_inches='layout'\n",
    "# fname = plots_p / (plot_name_s  + '.eps')\n",
    "# fig.savefig(fname, dpi=300, format='eps', transparent=True) #, facecolor='w')\n",
    "fname = plots_p / (plot_name_s  + '.svg')\n",
    "fig.savefig(fname, dpi=300, format='svg', transparent=True) #, facecolor='w')\n",
    "plt.close(fig)"
   ]
  },
  {
   "cell_type": "code",
   "execution_count": null,
   "id": "21341aab-bcb2-4ac8-b042-7a75dbff2d8b",
   "metadata": {},
   "outputs": [],
   "source": []
  }
 ],
 "metadata": {
  "kernelspec": {
   "display_name": "Python 3 (ipykernel)",
   "language": "python",
   "name": "python3"
  },
  "language_info": {
   "codemirror_mode": {
    "name": "ipython",
    "version": 3
   },
   "file_extension": ".py",
   "mimetype": "text/x-python",
   "name": "python",
   "nbconvert_exporter": "python",
   "pygments_lexer": "ipython3",
   "version": "3.12.8"
  }
 },
 "nbformat": 4,
 "nbformat_minor": 5
}
